{
 "cells": [
  {
   "cell_type": "markdown",
   "metadata": {},
   "source": [
    "# Generative Adversarial Networks\n",
    "\n",
    "본 Notebook은 논문 'Generative Adversarial Nets' Ian Goodfellow et al. [[Paper](https://arxiv.org/abs/1406.2661)] 를 기반으로 GAN을 구현해보는 것을 목적으로 한다. \n",
    "\n"
   ]
  },
  {
   "cell_type": "code",
   "execution_count": 1,
   "metadata": {},
   "outputs": [
    {
     "name": "stderr",
     "output_type": "stream",
     "text": [
      "/home/icell/anaconda3/envs/hog/lib/python3.5/site-packages/h5py/__init__.py:36: FutureWarning: Conversion of the second argument of issubdtype from `float` to `np.floating` is deprecated. In future, it will be treated as `np.float64 == np.dtype(float).type`.\n",
      "  from ._conv import register_converters as _register_converters\n"
     ]
    }
   ],
   "source": [
    "import tensorflow as tf\n",
    "learning_rate = 0.0002"
   ]
  },
  {
   "cell_type": "markdown",
   "metadata": {},
   "source": [
    "논문 中 p2. **3. Adversarial nets **\n",
    "\n",
    "*The adversarial modeling framework is most straightforward to apply when the models are both multilayer perceptrons. To learn the generator's distribution **Pg** over data **x**, we define a prior on input <span style=\"color:red\">noise variable **Pz(z)**</span>, ...*"
   ]
  },
  {
   "cell_type": "code",
   "execution_count": 2,
   "metadata": {},
   "outputs": [],
   "source": [
    "import numpy as np\n",
    "# Generate noise random variable matrix from N(1,0) \n",
    "# Matrix size [Batch size X Number of Noise]\n",
    "\n",
    "def get_noise(batch_size, size_of_noise):\n",
    "    return np.random.normal(size=(batch_size, size_of_noise))"
   ]
  },
  {
   "cell_type": "markdown",
   "metadata": {},
   "source": [
    "*...then represent a mapping to data space as **G(z;θg)**, where G is a differentiable function represented by a multilayer perceptron with <span style=\"color:red\">parameters **θg**</span>.*"
   ]
  },
  {
   "cell_type": "code",
   "execution_count": 3,
   "metadata": {},
   "outputs": [],
   "source": [
    "# ...a multilayer perceptron with parameters θg : g_w1 , g_b1 , g_w2 , g_b2\n",
    "# main parameter sets of θg is ...\n",
    "size_of_noise = 256\n",
    "size_of_hidden_layer = 512\n",
    "size_of_input = 784\n",
    "\n",
    "g_w1 = tf.Variable(tf.random_normal([size_of_noise, size_of_hidden_layer], stddev=0.01))\n",
    "g_b1 = tf.Variable(tf.zeros([size_of_hidden_layer]))\n",
    "g_w2 = tf.Variable(tf.random_normal([size_of_hidden_layer, size_of_input], stddev=0.01))\n",
    "g_b2 = tf.Variable(tf.zeros([size_of_input]))\n",
    "\n",
    "# θg\n",
    "theta_g = [g_w1 , g_b1 , g_w2 , g_b2]\n",
    "\n",
    "def generator(z):\n",
    "    \n",
    "    # Initial Matrix size [ Size of Noise X Size of Hidden Layer ]\n",
    "    hidden_layer = tf.matmul(z, g_w1) + g_b1\n",
    "    hidden_layer = tf.nn.relu(hidden_layer)\n",
    "    \n",
    "    # Hidden layer's Matrix size [ Size of Hidden Layer X Size of input]\n",
    "    hidden_layer2 = tf.matmul(hidden_layer, g_w2) + g_b2\n",
    "    output = tf.nn.sigmoid(hidden_layer2)\n",
    "    \n",
    "    # Output Matrix size [ Size of Noise X Size of input]\n",
    "    return output"
   ]
  },
  {
   "cell_type": "markdown",
   "metadata": {},
   "source": [
    "**θg** 에 관해, \n",
    "- Layer    : 기본 적인 Multilayer perceptron 인 Input Layer, Hidden Layer, Output Layer로 구성\n",
    "- Theta(G) : Hidden Layer 256개, MNIST sample input size 784 (Flatten), Noise size 128 로 설정"
   ]
  },
  {
   "cell_type": "markdown",
   "metadata": {},
   "source": [
    "*...We also define a second multilayer perceptron **D(x;θd)** that outputs a single scalar.*\n",
    "\n",
    "이때, single scalar는 0(real),1(fake) 사이의 Scalar로 판별된다. \n",
    "\n",
    "*...**D(x)** represents the probability that **x** came from the data rather then **Pg**.*"
   ]
  },
  {
   "cell_type": "code",
   "execution_count": 4,
   "metadata": {},
   "outputs": [],
   "source": [
    "# ...a multilayer perceptron with parameters θd : d_w1 , d_b1 , d_w2 , d_b2\n",
    "size_of_output = 1\n",
    "d_w1 = tf.Variable(tf.random_normal([size_of_input, size_of_hidden_layer], stddev=0.01))\n",
    "d_b1 = tf.Variable(tf.zeros([size_of_hidden_layer]))\n",
    "d_w2 = tf.Variable(tf.random_normal([size_of_hidden_layer, size_of_output], stddev=0.01))\n",
    "d_b2 = tf.Variable(tf.zeros([size_of_output]))\n",
    "\n",
    "# θd\n",
    "theta_d = [d_w1 , d_b1 , d_w2 , d_b2]\n",
    "\n",
    "\n",
    "def discriminator(x):\n",
    "    \n",
    "    # Initial Matrix size [ Size of Input X Size of Hidden Layer ]\n",
    "    hidden_layer = tf.matmul(x, d_w1) + d_b1\n",
    "    hidden_layer = tf.nn.relu(hidden_layer)\n",
    "    \n",
    "    # Hidden layer's Matrix size [ Size of Hidden Layer X Size of Output]\n",
    "    hidden_layer2 = tf.matmul(hidden_layer, d_w2) + d_b2\n",
    "    output = tf.nn.sigmoid(hidden_layer2)\n",
    "    \n",
    "    # Output Matrix size [ Size of Input X Size of Output]\n",
    "    return output"
   ]
  },
  {
   "cell_type": "markdown",
   "metadata": {},
   "source": [
    "*...We train **D** to maximize the probability of assigning the correct label to both training examples and samples from **G**. We simultaneously train **G** to minimize **log(1-D(G(z)))**. In other words, **D** and **G** play the following two-player minimax game with value function **V(G, D)**.*\n"
   ]
  },
  {
   "cell_type": "markdown",
   "metadata": {},
   "source": [
    "논문 제 (1) 식 minimax problem 은 다음과 같다. \n",
    "\n",
    "![](imgs/GAN-Algorithm.png)"
   ]
  },
  {
   "cell_type": "markdown",
   "metadata": {},
   "source": [
    "Value Function **V(G,D)** 의 Minimax 문제를 풀기 위해, 확률 변수 X,Z를 다음과 같이 정의한다.\n",
    "\n",
    " - X ~ Pdata (단, data distribution은 real data를 따른다.)\n",
    " - Z ~ Pg \n",
    "\n",
    "각 확률 변수의 임의 표본 추출 공간을 아래와 같이 정의한다. "
   ]
  },
  {
   "cell_type": "code",
   "execution_count": 5,
   "metadata": {},
   "outputs": [],
   "source": [
    "X = tf.placeholder(tf.float32, [None, size_of_input])\n",
    "Z = tf.placeholder(tf.float32, [None, size_of_noise])"
   ]
  },
  {
   "cell_type": "markdown",
   "metadata": {},
   "source": [
    "Value Function의 **Log(1-D(G(z)))** 를 Minimize 하는 데 있어서, 논문에서는 다음과 같은 실용적인 팁을 제안하고 있다. \n",
    "\n",
    "In practice, equation 1 may not provide sufficient gradient for **G** to learn well. Early in learning, when **G** is poor, **D** can reject samples with high confidence because they are clearly different from the training data. In this case, **log(1-D(G(z)))** saturates. <span style=\"color:blue\">Rather than training **G** to minimize **Log(1-D(G(z)))** we can train **G** to maximize **Log D(G(z))**.</span> This objective function results in the same fixed point of the dynamics of G and D but provides much stronger gradients early in learning.\n",
    "\n",
    "이를 다음과 같이 나타낼 수 있다. "
   ]
  },
  {
   "cell_type": "code",
   "execution_count": 6,
   "metadata": {},
   "outputs": [],
   "source": [
    "# Random Noise 생성\n",
    "G = generator(Z)               # G(z)\n",
    "D_Generator=discriminator(G)   # D(G(z))\n",
    "\n",
    "# tf.log(1-D(G(z))) 대신 tf.log(D(G(z)))를 Maximize.\n",
    "loss_G  = tf.reduce_mean(tf.log(D_Generator))\n",
    "train_G = tf.train.AdamOptimizer(learning_rate).minimize(-loss_G, var_list=theta_g)"
   ]
  },
  {
   "cell_type": "markdown",
   "metadata": {},
   "source": [
    "다시 본식으로 돌아와서, **E[Log D(x)] + E[Log (1-D(G(x)))]** 의 Minimax problem을 풀이하는데, 위 식에서 구한 **loss_G** 를 이용하여 **Min G** 를 고정시킨 방정식으로 간주하고 아래와 같이 해법한다."
   ]
  },
  {
   "cell_type": "code",
   "execution_count": 7,
   "metadata": {},
   "outputs": [],
   "source": [
    "# MinG 가 고정된 MaxD 풀이\n",
    "D_Real  = discriminator(X)\n",
    "loss_D  = tf.reduce_mean(tf.log(D_Real) + tf.log(1-D_Generator))\n",
    "train_D = tf.train.AdamOptimizer(learning_rate).minimize(-loss_D, var_list=theta_d)"
   ]
  },
  {
   "cell_type": "markdown",
   "metadata": {},
   "source": [
    "논문에 의한 구현은 여기까지다. 구현된 모델을 다음과 같이 Tensorflow를 이용하여 학습한다."
   ]
  },
  {
   "cell_type": "code",
   "execution_count": 8,
   "metadata": {},
   "outputs": [],
   "source": [
    "# 초기화\n",
    "sess = tf.Session()\n",
    "sess.run(tf.global_variables_initializer())"
   ]
  },
  {
   "cell_type": "markdown",
   "metadata": {},
   "source": [
    "학습 데이터는 Tensorflow 내장 예제인 MNIST 를 이용한다. "
   ]
  },
  {
   "cell_type": "code",
   "execution_count": 9,
   "metadata": {
    "scrolled": true
   },
   "outputs": [
    {
     "name": "stdout",
     "output_type": "stream",
     "text": [
      "WARNING:tensorflow:From <ipython-input-9-5e464c9a7303>:3: read_data_sets (from tensorflow.contrib.learn.python.learn.datasets.mnist) is deprecated and will be removed in a future version.\n",
      "Instructions for updating:\n",
      "Please use alternatives such as official/mnist/dataset.py from tensorflow/models.\n",
      "WARNING:tensorflow:From /home/icell/anaconda3/envs/hog/lib/python3.5/site-packages/tensorflow/contrib/learn/python/learn/datasets/mnist.py:260: maybe_download (from tensorflow.contrib.learn.python.learn.datasets.base) is deprecated and will be removed in a future version.\n",
      "Instructions for updating:\n",
      "Please write your own downloading logic.\n",
      "WARNING:tensorflow:From /home/icell/anaconda3/envs/hog/lib/python3.5/site-packages/tensorflow/contrib/learn/python/learn/datasets/base.py:252: _internal_retry.<locals>.wrap.<locals>.wrapped_fn (from tensorflow.contrib.learn.python.learn.datasets.base) is deprecated and will be removed in a future version.\n",
      "Instructions for updating:\n",
      "Please use urllib or similar directly.\n",
      "Successfully downloaded train-images-idx3-ubyte.gz 9912422 bytes.\n",
      "WARNING:tensorflow:From /home/icell/anaconda3/envs/hog/lib/python3.5/site-packages/tensorflow/contrib/learn/python/learn/datasets/mnist.py:262: extract_images (from tensorflow.contrib.learn.python.learn.datasets.mnist) is deprecated and will be removed in a future version.\n",
      "Instructions for updating:\n",
      "Please use tf.data to implement this functionality.\n",
      "Extracting ./mnist/train-images-idx3-ubyte.gz\n",
      "Successfully downloaded train-labels-idx1-ubyte.gz 28881 bytes.\n",
      "WARNING:tensorflow:From /home/icell/anaconda3/envs/hog/lib/python3.5/site-packages/tensorflow/contrib/learn/python/learn/datasets/mnist.py:267: extract_labels (from tensorflow.contrib.learn.python.learn.datasets.mnist) is deprecated and will be removed in a future version.\n",
      "Instructions for updating:\n",
      "Please use tf.data to implement this functionality.\n",
      "Extracting ./mnist/train-labels-idx1-ubyte.gz\n",
      "WARNING:tensorflow:From /home/icell/anaconda3/envs/hog/lib/python3.5/site-packages/tensorflow/contrib/learn/python/learn/datasets/mnist.py:110: dense_to_one_hot (from tensorflow.contrib.learn.python.learn.datasets.mnist) is deprecated and will be removed in a future version.\n",
      "Instructions for updating:\n",
      "Please use tf.one_hot on tensors.\n",
      "Successfully downloaded t10k-images-idx3-ubyte.gz 1648877 bytes.\n",
      "Extracting ./mnist/t10k-images-idx3-ubyte.gz\n",
      "Successfully downloaded t10k-labels-idx1-ubyte.gz 4542 bytes.\n",
      "Extracting ./mnist/t10k-labels-idx1-ubyte.gz\n",
      "WARNING:tensorflow:From /home/icell/anaconda3/envs/hog/lib/python3.5/site-packages/tensorflow/contrib/learn/python/learn/datasets/mnist.py:290: DataSet.__init__ (from tensorflow.contrib.learn.python.learn.datasets.mnist) is deprecated and will be removed in a future version.\n",
      "Instructions for updating:\n",
      "Please use alternatives such as official/mnist/dataset.py from tensorflow/models.\n"
     ]
    }
   ],
   "source": [
    "# MNIST Data Download\n",
    "from tensorflow.examples.tutorials.mnist import input_data\n",
    "mnist = input_data.read_data_sets(\"./mnist/\", one_hot=True)"
   ]
  },
  {
   "cell_type": "code",
   "execution_count": 10,
   "metadata": {},
   "outputs": [],
   "source": [
    "total_epoch = 100\n",
    "batch_size = 100\n",
    "total_batch = int(mnist.train.num_examples/batch_size)\n",
    "loss_val_D, loss_val_G = 0, 0"
   ]
  },
  {
   "cell_type": "code",
   "execution_count": 11,
   "metadata": {
    "scrolled": true
   },
   "outputs": [
    {
     "name": "stdout",
     "output_type": "stream",
     "text": [
      "Epoch: 0000 D loss: -0.1376 G loss: -3.173\n",
      "Epoch: 0001 D loss: -0.1069 G loss: -3.736\n",
      "Epoch: 0002 D loss: -0.04177 G loss: -4.066\n",
      "Epoch: 0003 D loss: -0.1038 G loss: -2.904\n",
      "Epoch: 0004 D loss: -0.1335 G loss: -2.974\n",
      "Epoch: 0005 D loss: -0.1968 G loss: -3.047\n",
      "Epoch: 0006 D loss: -0.1551 G loss: -3.01\n",
      "Epoch: 0007 D loss: -0.2853 G loss: -3.084\n",
      "Epoch: 0008 D loss: -0.2244 G loss: -3.072\n",
      "Epoch: 0009 D loss: -0.1892 G loss: -3.006\n",
      "Epoch: 0010 D loss: -0.2576 G loss: -3.264\n",
      "Epoch: 0011 D loss: -0.2881 G loss: -3.059\n",
      "Epoch: 0012 D loss: -0.1956 G loss: -3.229\n",
      "Epoch: 0013 D loss: -0.1897 G loss: -3.325\n",
      "Epoch: 0014 D loss: -0.2793 G loss: -3.109\n",
      "Epoch: 0015 D loss: -0.3921 G loss: -3.24\n",
      "Epoch: 0016 D loss: -0.3045 G loss: -3.183\n",
      "Epoch: 0017 D loss: -0.3795 G loss: -2.555\n",
      "Epoch: 0018 D loss: -0.3514 G loss: -2.731\n",
      "Epoch: 0019 D loss: -0.3071 G loss: -2.951\n",
      "Epoch: 0020 D loss: -0.3366 G loss: -2.515\n",
      "Epoch: 0021 D loss: -0.347 G loss: -2.735\n",
      "Epoch: 0022 D loss: -0.321 G loss: -2.702\n",
      "Epoch: 0023 D loss: -0.3755 G loss: -3.241\n",
      "Epoch: 0024 D loss: -0.4036 G loss: -2.671\n",
      "Epoch: 0025 D loss: -0.5126 G loss: -2.426\n",
      "Epoch: 0026 D loss: -0.34 G loss: -2.431\n",
      "Epoch: 0027 D loss: -0.6314 G loss: -2.482\n",
      "Epoch: 0028 D loss: -0.5131 G loss: -2.88\n",
      "Epoch: 0029 D loss: -0.5426 G loss: -2.193\n",
      "Epoch: 0030 D loss: -0.4645 G loss: -2.341\n",
      "Epoch: 0031 D loss: -0.3793 G loss: -2.47\n",
      "Epoch: 0032 D loss: -0.4551 G loss: -2.57\n",
      "Epoch: 0033 D loss: -0.484 G loss: -2.56\n",
      "Epoch: 0034 D loss: -0.4483 G loss: -2.414\n",
      "Epoch: 0035 D loss: -0.4904 G loss: -2.472\n",
      "Epoch: 0036 D loss: -0.4823 G loss: -2.507\n",
      "Epoch: 0037 D loss: -0.4754 G loss: -2.299\n",
      "Epoch: 0038 D loss: -0.5055 G loss: -2.475\n",
      "Epoch: 0039 D loss: -0.4419 G loss: -2.345\n",
      "Epoch: 0040 D loss: -0.5585 G loss: -2.46\n",
      "Epoch: 0041 D loss: -0.5541 G loss: -2.317\n",
      "Epoch: 0042 D loss: -0.5573 G loss: -2.107\n",
      "Epoch: 0043 D loss: -0.4949 G loss: -2.124\n",
      "Epoch: 0044 D loss: -0.474 G loss: -2.528\n",
      "Epoch: 0045 D loss: -0.4499 G loss: -2.343\n",
      "Epoch: 0046 D loss: -0.5742 G loss: -2.465\n",
      "Epoch: 0047 D loss: -0.4236 G loss: -2.361\n",
      "Epoch: 0048 D loss: -0.525 G loss: -2.08\n",
      "Epoch: 0049 D loss: -0.4985 G loss: -2.317\n",
      "Epoch: 0050 D loss: -0.4621 G loss: -2.326\n",
      "Epoch: 0051 D loss: -0.5873 G loss: -2.427\n",
      "Epoch: 0052 D loss: -0.5092 G loss: -2.245\n",
      "Epoch: 0053 D loss: -0.5623 G loss: -2.071\n",
      "Epoch: 0054 D loss: -0.7676 G loss: -2.116\n",
      "Epoch: 0055 D loss: -0.5158 G loss: -2.277\n",
      "Epoch: 0056 D loss: -0.5767 G loss: -2.172\n",
      "Epoch: 0057 D loss: -0.5539 G loss: -2.272\n",
      "Epoch: 0058 D loss: -0.7591 G loss: -2.002\n",
      "Epoch: 0059 D loss: -0.6901 G loss: -2.247\n",
      "Epoch: 0060 D loss: -0.5141 G loss: -2.5\n",
      "Epoch: 0061 D loss: -0.5323 G loss: -2.234\n",
      "Epoch: 0062 D loss: -0.5026 G loss: -2.045\n",
      "Epoch: 0063 D loss: -0.4374 G loss: -2.292\n",
      "Epoch: 0064 D loss: -0.5223 G loss: -2.594\n",
      "Epoch: 0065 D loss: -0.7336 G loss: -2.707\n",
      "Epoch: 0066 D loss: -0.7328 G loss: -1.888\n",
      "Epoch: 0067 D loss: -0.4992 G loss: -2.35\n",
      "Epoch: 0068 D loss: -0.5388 G loss: -2.589\n",
      "Epoch: 0069 D loss: -0.5402 G loss: -2.197\n",
      "Epoch: 0070 D loss: -0.6386 G loss: -2.577\n",
      "Epoch: 0071 D loss: -0.5446 G loss: -2.105\n",
      "Epoch: 0072 D loss: -0.5239 G loss: -2.345\n",
      "Epoch: 0073 D loss: -0.4264 G loss: -2.555\n",
      "Epoch: 0074 D loss: -0.418 G loss: -2.342\n",
      "Epoch: 0075 D loss: -0.5402 G loss: -2.265\n",
      "Epoch: 0076 D loss: -0.4508 G loss: -2.38\n",
      "Epoch: 0077 D loss: -0.5463 G loss: -2.22\n",
      "Epoch: 0078 D loss: -0.3662 G loss: -2.499\n",
      "Epoch: 0079 D loss: -0.4815 G loss: -2.749\n",
      "Epoch: 0080 D loss: -0.526 G loss: -2.489\n",
      "Epoch: 0081 D loss: -0.4961 G loss: -2.534\n",
      "Epoch: 0082 D loss: -0.4909 G loss: -2.18\n",
      "Epoch: 0083 D loss: -0.4297 G loss: -2.533\n",
      "Epoch: 0084 D loss: -0.4892 G loss: -2.541\n",
      "Epoch: 0085 D loss: -0.5158 G loss: -2.341\n",
      "Epoch: 0086 D loss: -0.5125 G loss: -2.289\n",
      "Epoch: 0087 D loss: -0.442 G loss: -2.712\n",
      "Epoch: 0088 D loss: -0.459 G loss: -2.436\n",
      "Epoch: 0089 D loss: -0.4333 G loss: -2.251\n",
      "Epoch: 0090 D loss: -0.46 G loss: -2.545\n",
      "Epoch: 0091 D loss: -0.42 G loss: -2.539\n",
      "Epoch: 0092 D loss: -0.4662 G loss: -2.486\n",
      "Epoch: 0093 D loss: -0.4107 G loss: -2.857\n",
      "Epoch: 0094 D loss: -0.5661 G loss: -2.185\n",
      "Epoch: 0095 D loss: -0.5823 G loss: -2.663\n",
      "Epoch: 0096 D loss: -0.4229 G loss: -2.248\n",
      "Epoch: 0097 D loss: -0.3939 G loss: -2.401\n",
      "Epoch: 0098 D loss: -0.4178 G loss: -2.916\n",
      "Epoch: 0099 D loss: -0.3632 G loss: -2.616\n"
     ]
    }
   ],
   "source": [
    "import os.path\n",
    "import matplotlib.pyplot as plt\n",
    "%matplotlib inline\n",
    "\n",
    "if not os.path.exists(\"samples/\"):\n",
    "    os.mkdir(\"samples/\")\n",
    "\n",
    "for epoch in range(total_epoch):\n",
    "    \n",
    "    for i in range(total_batch):\n",
    "        batch_xs, batch_ys = mnist.train.next_batch(batch_size)\n",
    "        noise = get_noise(batch_size, size_of_noise)\n",
    "\n",
    "        _, loss_val_D = sess.run([train_D, loss_D], feed_dict={X: batch_xs, Z: noise})\n",
    "        _, loss_val_G = sess.run([train_G, loss_G], feed_dict={Z: noise})\n",
    "\n",
    "    print('Epoch:', '%04d' % epoch, 'D loss: {:.4}'.format(loss_val_D), 'G loss: {:.4}'.format(loss_val_G))\n"
   ]
  },
  {
   "cell_type": "code",
   "execution_count": 12,
   "metadata": {},
   "outputs": [
    {
     "data": {
      "image/png": "[encoded data removed]",
      "text/plain": [
       "<Figure size 720x72 with 10 Axes>"
      ]
     },
     "metadata": {},
     "output_type": "display_data"
    }
   ],
   "source": [
    "sample_size = 10\n",
    "noise = get_noise(sample_size, size_of_noise)\n",
    "samples = sess.run(G, feed_dict={Z: noise})\n",
    "\n",
    "fig, ax = plt.subplots(1, sample_size, figsize=(sample_size, 1))\n",
    "\n",
    "for i in range(sample_size):\n",
    "    ax[i].set_axis_off()\n",
    "    ax[i].imshow(np.reshape(samples[i], (28, 28)))"
   ]
  },
  {
   "cell_type": "code",
   "execution_count": null,
   "metadata": {},
   "outputs": [],
   "source": []
  }
 ],
 "metadata": {
  "kernelspec": {
   "display_name": "Python 3",
   "language": "python",
   "name": "python3"
  },
  "language_info": {
   "codemirror_mode": {
    "name": "ipython",
    "version": 3
   },
   "file_extension": ".py",
   "mimetype": "text/x-python",
   "name": "python",
   "nbconvert_exporter": "python",
   "pygments_lexer": "ipython3",
   "version": "3.5.5"
  }
 },
 "nbformat": 4,
 "nbformat_minor": 2
}
