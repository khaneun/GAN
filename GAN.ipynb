{
 "cells": [
  {
   "cell_type": "markdown",
   "metadata": {},
   "source": [
    "# Generative Adversarial Networks\n",
    "\n",
    "본 Notebook은 논문 'Generative Adversarial Nets' Ian Goodfellow et al. [[Paper](https://arxiv.org/abs/1406.2661)] 를 기반으로 GAN을 구현해보는 것을 목적으로 한다. \n",
    "\n"
   ]
  },
  {
   "cell_type": "code",
   "execution_count": 22,
   "metadata": {},
   "outputs": [],
   "source": [
    "import tensorflow as tf\n",
    "learning_rate = 0.0002"
   ]
  },
  {
   "cell_type": "markdown",
   "metadata": {},
   "source": [
    "논문 中 p2. **3. Adversarial nets **\n",
    "\n",
    "*The adversarial modeling framework is most straightforward to apply when the models are both multilayer perceptrons. To learn the generator's distribution **Pg** over data **x**, we define a prior on input <span style=\"color:red\">noise variable **Pz(z)**</span>, ...*"
   ]
  },
  {
   "cell_type": "code",
   "execution_count": 23,
   "metadata": {},
   "outputs": [],
   "source": [
    "import numpy as np\n",
    "# Generate noise random variable matrix from N(1,0) \n",
    "# Matrix size [Batch size X Number of Noise]\n",
    "\n",
    "def get_noise(batch_size, size_of_noise):\n",
    "    return np.random.normal(size=(batch_size, size_of_noise))"
   ]
  },
  {
   "cell_type": "markdown",
   "metadata": {},
   "source": [
    "*...then represent a mapping to data space as **G(z;θg)**, where G is a differentiable function represented by a multilayer perceptron with <span style=\"color:red\">parameters **θg**</span>.*"
   ]
  },
  {
   "cell_type": "code",
   "execution_count": 24,
   "metadata": {},
   "outputs": [],
   "source": [
    "# ...a multilayer perceptron with parameters θg : g_w1 , g_b1 , g_w2 , g_b2\n",
    "# main parameter sets of θg is ...\n",
    "size_of_noise = 256\n",
    "size_of_hidden_layer = 512\n",
    "size_of_input = 784\n",
    "\n",
    "g_w1 = tf.Variable(tf.random_normal([size_of_noise, size_of_hidden_layer], stddev=0.01))\n",
    "g_b1 = tf.Variable(tf.zeros([size_of_hidden_layer]))\n",
    "g_w2 = tf.Variable(tf.random_normal([size_of_hidden_layer, size_of_input], stddev=0.01))\n",
    "g_b2 = tf.Variable(tf.zeros([size_of_input]))\n",
    "\n",
    "# θg\n",
    "theta_g = [g_w1 , g_b1 , g_w2 , g_b2]\n",
    "\n",
    "def generator(z):\n",
    "    \n",
    "    # Initial Matrix size [ Size of Noise X Size of Hidden Layer ]\n",
    "    hidden_layer = tf.matmul(z, g_w1) + g_b1\n",
    "    hidden_layer = tf.nn.relu(hidden_layer)\n",
    "    \n",
    "    # Hidden layer's Matrix size [ Size of Hidden Layer X Size of input]\n",
    "    hidden_layer2 = tf.matmul(hidden_layer, g_w2) + g_b2\n",
    "    output = tf.nn.sigmoid(hidden_layer2)\n",
    "    \n",
    "    # Output Matrix size [ Size of Noise X Size of input]\n",
    "    return output"
   ]
  },
  {
   "cell_type": "markdown",
   "metadata": {},
   "source": [
    "**θg** 에 관해, \n",
    "- Layer    : 기본 적인 Multilayer perceptron 인 Input Layer, Hidden Layer, Output Layer로 구성\n",
    "- Theta(G) : Hidden Layer 256개, MNIST sample input size 784 (Flatten), Noise size 128 로 설정"
   ]
  },
  {
   "cell_type": "markdown",
   "metadata": {},
   "source": [
    "*...We also define a second multilayer perceptron **D(x;θd)** that outputs a single scalar.*\n",
    "\n",
    "이때, single scalar는 0(real),1(fake) 사이의 Scalar로 판별된다. \n",
    "\n",
    "*...**D(x)** represents the probability that **x** came from the data rather then **Pg**.*"
   ]
  },
  {
   "cell_type": "code",
   "execution_count": 25,
   "metadata": {},
   "outputs": [],
   "source": [
    "# ...a multilayer perceptron with parameters θd : d_w1 , d_b1 , d_w2 , d_b2\n",
    "size_of_output = 1\n",
    "d_w1 = tf.Variable(tf.random_normal([size_of_input, size_of_hidden_layer], stddev=0.01))\n",
    "d_b1 = tf.Variable(tf.zeros([size_of_hidden_layer]))\n",
    "d_w2 = tf.Variable(tf.random_normal([size_of_hidden_layer, size_of_output], stddev=0.01))\n",
    "d_b2 = tf.Variable(tf.zeros([size_of_output]))\n",
    "\n",
    "# θd\n",
    "theta_d = [d_w1 , d_b1 , d_w2 , d_b2]\n",
    "\n",
    "\n",
    "def discriminator(x):\n",
    "    \n",
    "    # Initial Matrix size [ Size of Input X Size of Hidden Layer ]\n",
    "    hidden_layer = tf.matmul(x, d_w1) + d_b1\n",
    "    hidden_layer = tf.nn.relu(hidden_layer)\n",
    "    \n",
    "    # Hidden layer's Matrix size [ Size of Hidden Layer X Size of Output]\n",
    "    hidden_layer2 = tf.matmul(hidden_layer, d_w2) + d_b2\n",
    "    output = tf.nn.sigmoid(hidden_layer2)\n",
    "    \n",
    "    # Output Matrix size [ Size of Input X Size of Output]\n",
    "    return output"
   ]
  },
  {
   "cell_type": "markdown",
   "metadata": {},
   "source": [
    "*...We train **D** to maximize the probability of assigning the correct label to both training examples and samples from **G**. We simultaneously train **G** to minimize **log(1-D(G(z)))**. In other words, **D** and **G** play the following two-player minimax game with value function **V(G, D)**.*\n"
   ]
  },
  {
   "cell_type": "markdown",
   "metadata": {},
   "source": [
    "논문 제 (1) 식 minimax problem 은 다음과 같다. \n",
    "\n",
    "![](imgs/GAN-Algorithm.png)"
   ]
  },
  {
   "cell_type": "markdown",
   "metadata": {},
   "source": [
    "Value Function **V(G,D)** 의 Minimax 문제를 풀기 위해, 확률 변수 X,Z를 다음과 같이 정의한다.\n",
    "\n",
    " - X ~ Pdata (단, data distribution은 real data를 따른다.)\n",
    " - Z ~ Pg \n",
    "\n",
    "각 확률 변수의 임의 표본 추출 공간을 아래와 같이 정의한다. "
   ]
  },
  {
   "cell_type": "code",
   "execution_count": 26,
   "metadata": {},
   "outputs": [],
   "source": [
    "X = tf.placeholder(tf.float32, [None, size_of_input])\n",
    "Z = tf.placeholder(tf.float32, [None, size_of_noise])"
   ]
  },
  {
   "cell_type": "markdown",
   "metadata": {},
   "source": [
    "Value Function의 **Log(1-D(G(z)))** 를 Minimize 하는 데 있어서, 논문에서는 다음과 같은 실용적인 팁을 제안하고 있다. \n",
    "\n",
    "In practice, equation 1 may not provide sufficient gradient for **G** to learn well. Early in learning, when **G** is poor, **D** can reject samples with high confidence because they are clearly different from the training data. In this case, **log(1-D(G(z)))** saturates. <span style=\"color:blue\">Rather than training **G** to minimize **Log(1-D(G(z)))** we can train **G** to maximize **Log D(G(z))**.</span> This objective function results in the same fixed point of the dynamics of G and D but provides much stronger gradients early in learning.\n",
    "\n",
    "이를 다음과 같이 나타낼 수 있다. "
   ]
  },
  {
   "cell_type": "code",
   "execution_count": 27,
   "metadata": {},
   "outputs": [],
   "source": [
    "# Random Noise 생성\n",
    "G = generator(Z)               # G(z)\n",
    "D_Generator=discriminator(G)   # D(G(z))\n",
    "\n",
    "# tf.log(1-D(G(z))) 대신 tf.log(D(G(z)))를 Maximize.\n",
    "loss_G  = tf.reduce_mean(tf.log(D_Generator))\n",
    "train_G = tf.train.AdamOptimizer(learning_rate).minimize(-loss_G, var_list=theta_g)"
   ]
  },
  {
   "cell_type": "markdown",
   "metadata": {},
   "source": [
    "다시 본식으로 돌아와서, **E[Log D(x)] + E[Log (1-D(G(x)))]** 의 Minimax problem을 풀이하는데, 위 식에서 구한 **loss_G** 를 이용하여 **Min G** 를 고정시킨 방정식으로 간주하고 아래와 같이 해법한다."
   ]
  },
  {
   "cell_type": "code",
   "execution_count": 28,
   "metadata": {},
   "outputs": [],
   "source": [
    "# MinG 가 고정된 MaxD 풀이\n",
    "D_Real  = discriminator(X)\n",
    "loss_D  = tf.reduce_mean(tf.log(D_Real) + tf.log(1-D_Generator))\n",
    "train_D = tf.train.AdamOptimizer(learning_rate).minimize(-loss_D, var_list=theta_d)"
   ]
  },
  {
   "cell_type": "markdown",
   "metadata": {},
   "source": [
    "논문에 의한 구현은 여기까지다. 구현된 모델을 다음과 같이 Tensorflow를 이용하여 학습한다."
   ]
  },
  {
   "cell_type": "code",
   "execution_count": 29,
   "metadata": {},
   "outputs": [],
   "source": [
    "# 초기화\n",
    "sess = tf.Session()\n",
    "sess.run(tf.global_variables_initializer())"
   ]
  },
  {
   "cell_type": "markdown",
   "metadata": {},
   "source": [
    "학습 데이터는 Tensorflow 내장 예제인 MNIST 를 이용한다. "
   ]
  },
  {
   "cell_type": "code",
   "execution_count": 9,
   "metadata": {
    "scrolled": true
   },
   "outputs": [
    {
     "name": "stdout",
     "output_type": "stream",
     "text": [
      "WARNING:tensorflow:From <ipython-input-9-5e464c9a7303>:3: read_data_sets (from tensorflow.contrib.learn.python.learn.datasets.mnist) is deprecated and will be removed in a future version.\n",
      "Instructions for updating:\n",
      "Please use alternatives such as official/mnist/dataset.py from tensorflow/models.\n",
      "WARNING:tensorflow:From /home/icell/anaconda3/envs/hog/lib/python3.5/site-packages/tensorflow/contrib/learn/python/learn/datasets/mnist.py:260: maybe_download (from tensorflow.contrib.learn.python.learn.datasets.base) is deprecated and will be removed in a future version.\n",
      "Instructions for updating:\n",
      "Please write your own downloading logic.\n",
      "WARNING:tensorflow:From /home/icell/anaconda3/envs/hog/lib/python3.5/site-packages/tensorflow/contrib/learn/python/learn/datasets/mnist.py:262: extract_images (from tensorflow.contrib.learn.python.learn.datasets.mnist) is deprecated and will be removed in a future version.\n",
      "Instructions for updating:\n",
      "Please use tf.data to implement this functionality.\n",
      "Extracting ./mnist/train-images-idx3-ubyte.gz\n",
      "WARNING:tensorflow:From /home/icell/anaconda3/envs/hog/lib/python3.5/site-packages/tensorflow/contrib/learn/python/learn/datasets/mnist.py:267: extract_labels (from tensorflow.contrib.learn.python.learn.datasets.mnist) is deprecated and will be removed in a future version.\n",
      "Instructions for updating:\n",
      "Please use tf.data to implement this functionality.\n",
      "Extracting ./mnist/train-labels-idx1-ubyte.gz\n",
      "WARNING:tensorflow:From /home/icell/anaconda3/envs/hog/lib/python3.5/site-packages/tensorflow/contrib/learn/python/learn/datasets/mnist.py:110: dense_to_one_hot (from tensorflow.contrib.learn.python.learn.datasets.mnist) is deprecated and will be removed in a future version.\n",
      "Instructions for updating:\n",
      "Please use tf.one_hot on tensors.\n",
      "Extracting ./mnist/t10k-images-idx3-ubyte.gz\n",
      "Extracting ./mnist/t10k-labels-idx1-ubyte.gz\n",
      "WARNING:tensorflow:From /home/icell/anaconda3/envs/hog/lib/python3.5/site-packages/tensorflow/contrib/learn/python/learn/datasets/mnist.py:290: DataSet.__init__ (from tensorflow.contrib.learn.python.learn.datasets.mnist) is deprecated and will be removed in a future version.\n",
      "Instructions for updating:\n",
      "Please use alternatives such as official/mnist/dataset.py from tensorflow/models.\n"
     ]
    }
   ],
   "source": [
    "# MNIST Data Download\n",
    "from tensorflow.examples.tutorials.mnist import input_data\n",
    "mnist = input_data.read_data_sets(\"./mnist/\", one_hot=True)"
   ]
  },
  {
   "cell_type": "code",
   "execution_count": 30,
   "metadata": {},
   "outputs": [],
   "source": [
    "total_epoch = 100\n",
    "batch_size = 100\n",
    "total_batch = int(mnist.train.num_examples/batch_size)\n",
    "loss_val_D, loss_val_G = 0, 0"
   ]
  },
  {
   "cell_type": "code",
   "execution_count": 31,
   "metadata": {
    "scrolled": false
   },
   "outputs": [
    {
     "name": "stdout",
     "output_type": "stream",
     "text": [
      "Epoch: 0000 D loss: -0.1141 G loss: -3.393\n",
      "Epoch: 0001 D loss: -0.1452 G loss: -3.577\n",
      "Epoch: 0002 D loss: -0.313 G loss: -2.55\n",
      "Epoch: 0003 D loss: -0.2078 G loss: -2.478\n",
      "Epoch: 0004 D loss: -0.3159 G loss: -2.518\n",
      "Epoch: 0005 D loss: -0.2368 G loss: -2.835\n",
      "Epoch: 0006 D loss: -0.2838 G loss: -3.37\n",
      "Epoch: 0007 D loss: -0.2135 G loss: -3.102\n",
      "Epoch: 0008 D loss: -0.4716 G loss: -2.593\n",
      "Epoch: 0009 D loss: -0.4089 G loss: -2.861\n",
      "Epoch: 0010 D loss: -0.3538 G loss: -2.843\n",
      "Epoch: 0011 D loss: -0.2687 G loss: -2.971\n",
      "Epoch: 0012 D loss: -0.3305 G loss: -2.73\n",
      "Epoch: 0013 D loss: -0.2956 G loss: -2.903\n",
      "Epoch: 0014 D loss: -0.3246 G loss: -2.645\n",
      "Epoch: 0015 D loss: -0.3229 G loss: -3.139\n",
      "Epoch: 0016 D loss: -0.2587 G loss: -3.09\n",
      "Epoch: 0017 D loss: -0.2495 G loss: -3.134\n",
      "Epoch: 0018 D loss: -0.2907 G loss: -2.832\n",
      "Epoch: 0019 D loss: -0.4475 G loss: -2.642\n",
      "Epoch: 0020 D loss: -0.4781 G loss: -2.569\n",
      "Epoch: 0021 D loss: -0.4655 G loss: -2.451\n",
      "Epoch: 0022 D loss: -0.3293 G loss: -2.969\n",
      "Epoch: 0023 D loss: -0.3344 G loss: -3.076\n",
      "Epoch: 0024 D loss: -0.4111 G loss: -2.502\n",
      "Epoch: 0025 D loss: -0.4943 G loss: -2.439\n",
      "Epoch: 0026 D loss: -0.4315 G loss: -2.22\n",
      "Epoch: 0027 D loss: -0.4837 G loss: -2.635\n",
      "Epoch: 0028 D loss: -0.4946 G loss: -2.383\n",
      "Epoch: 0029 D loss: -0.6325 G loss: -2.532\n",
      "Epoch: 0030 D loss: -0.4926 G loss: -2.425\n",
      "Epoch: 0031 D loss: -0.5334 G loss: -2.191\n",
      "Epoch: 0032 D loss: -0.5378 G loss: -2.606\n",
      "Epoch: 0033 D loss: -0.5804 G loss: -2.072\n",
      "Epoch: 0034 D loss: -0.4572 G loss: -2.179\n",
      "Epoch: 0035 D loss: -0.5873 G loss: -2.383\n",
      "Epoch: 0036 D loss: -0.4771 G loss: -2.107\n",
      "Epoch: 0037 D loss: -0.6893 G loss: -2.424\n",
      "Epoch: 0038 D loss: -0.5616 G loss: -2.318\n",
      "Epoch: 0039 D loss: -0.7271 G loss: -2.23\n",
      "Epoch: 0040 D loss: -0.6281 G loss: -2.185\n",
      "Epoch: 0041 D loss: -0.6594 G loss: -2.185\n",
      "Epoch: 0042 D loss: -0.5468 G loss: -2.409\n",
      "Epoch: 0043 D loss: -0.6201 G loss: -2.119\n",
      "Epoch: 0044 D loss: -0.5903 G loss: -2.221\n",
      "Epoch: 0045 D loss: -0.528 G loss: -2.26\n",
      "Epoch: 0046 D loss: -0.6638 G loss: -1.88\n",
      "Epoch: 0047 D loss: -0.6173 G loss: -2.222\n",
      "Epoch: 0048 D loss: -0.6385 G loss: -2.158\n",
      "Epoch: 0049 D loss: -0.5802 G loss: -2.197\n",
      "Epoch: 0050 D loss: -0.6636 G loss: -2.273\n",
      "Epoch: 0051 D loss: -0.5415 G loss: -2.12\n",
      "Epoch: 0052 D loss: -0.6071 G loss: -2.096\n",
      "Epoch: 0053 D loss: -0.5005 G loss: -2.533\n",
      "Epoch: 0054 D loss: -0.4893 G loss: -2.234\n",
      "Epoch: 0055 D loss: -0.6441 G loss: -2.183\n",
      "Epoch: 0056 D loss: -0.6478 G loss: -2.105\n",
      "Epoch: 0057 D loss: -0.6261 G loss: -2.043\n",
      "Epoch: 0058 D loss: -0.6479 G loss: -2.038\n",
      "Epoch: 0059 D loss: -0.6048 G loss: -2.073\n",
      "Epoch: 0060 D loss: -0.4708 G loss: -2.344\n",
      "Epoch: 0061 D loss: -0.8008 G loss: -2.185\n",
      "Epoch: 0062 D loss: -0.6616 G loss: -2.016\n",
      "Epoch: 0063 D loss: -0.6405 G loss: -2.443\n",
      "Epoch: 0064 D loss: -0.5612 G loss: -2.624\n",
      "Epoch: 0065 D loss: -0.557 G loss: -2.59\n",
      "Epoch: 0066 D loss: -0.5684 G loss: -2.287\n",
      "Epoch: 0067 D loss: -0.5887 G loss: -2.517\n",
      "Epoch: 0068 D loss: -0.6473 G loss: -2.36\n",
      "Epoch: 0069 D loss: -0.5957 G loss: -2.058\n",
      "Epoch: 0070 D loss: -0.5363 G loss: -2.326\n",
      "Epoch: 0071 D loss: -0.5481 G loss: -2.35\n",
      "Epoch: 0072 D loss: -0.664 G loss: -1.991\n",
      "Epoch: 0073 D loss: -0.5455 G loss: -2.174\n",
      "Epoch: 0074 D loss: -0.5898 G loss: -2.166\n",
      "Epoch: 0075 D loss: -0.5694 G loss: -2.476\n",
      "Epoch: 0076 D loss: -0.4853 G loss: -2.511\n",
      "Epoch: 0077 D loss: -0.5445 G loss: -2.378\n",
      "Epoch: 0078 D loss: -0.553 G loss: -2.3\n",
      "Epoch: 0079 D loss: -0.5065 G loss: -2.432\n",
      "Epoch: 0080 D loss: -0.5968 G loss: -2.58\n",
      "Epoch: 0081 D loss: -0.5355 G loss: -2.413\n",
      "Epoch: 0082 D loss: -0.5258 G loss: -2.189\n",
      "Epoch: 0083 D loss: -0.5917 G loss: -2.537\n",
      "Epoch: 0084 D loss: -0.5058 G loss: -2.643\n",
      "Epoch: 0085 D loss: -0.3706 G loss: -2.486\n",
      "Epoch: 0086 D loss: -0.4976 G loss: -2.463\n",
      "Epoch: 0087 D loss: -0.4919 G loss: -2.505\n",
      "Epoch: 0088 D loss: -0.5063 G loss: -2.498\n",
      "Epoch: 0089 D loss: -0.4979 G loss: -2.514\n",
      "Epoch: 0090 D loss: -0.3883 G loss: -2.745\n",
      "Epoch: 0091 D loss: -0.4857 G loss: -2.38\n",
      "Epoch: 0092 D loss: -0.5579 G loss: -2.393\n",
      "Epoch: 0093 D loss: -0.3964 G loss: -2.647\n",
      "Epoch: 0094 D loss: -0.4399 G loss: -2.793\n",
      "Epoch: 0095 D loss: -0.5051 G loss: -2.897\n",
      "Epoch: 0096 D loss: -0.4117 G loss: -3.072\n",
      "Epoch: 0097 D loss: -0.4925 G loss: -3.012\n",
      "Epoch: 0098 D loss: -0.5711 G loss: -2.502\n",
      "Epoch: 0099 D loss: -0.4701 G loss: -2.715\n",
      "Done!\n"
     ]
    }
   ],
   "source": [
    "import os.path\n",
    "import matplotlib.pyplot as plt\n",
    "%matplotlib inline\n",
    "\n",
    "if not os.path.exists(\"samples/\"):\n",
    "    os.mkdir(\"samples/\")\n",
    "\n",
    "for epoch in range(total_epoch):\n",
    "    \n",
    "    for i in range(total_batch):\n",
    "        batch_xs, batch_ys = mnist.train.next_batch(batch_size)\n",
    "        noise = get_noise(batch_size, size_of_noise)\n",
    "\n",
    "        _, loss_val_D = sess.run([train_D, loss_D], feed_dict={X: batch_xs, Z: noise})\n",
    "        _, loss_val_G = sess.run([train_G, loss_G], feed_dict={Z: noise})\n",
    "\n",
    "    print('Epoch:', '%04d' % epoch, 'D loss: {:.4}'.format(loss_val_D), 'G loss: {:.4}'.format(loss_val_G))\n",
    "\n",
    "    if epoch == 0 or (epoch + 1) % 10 == 0:\n",
    "        sample_size = 10\n",
    "        noise = get_noise(sample_size, size_of_noise)\n",
    "        samples = sess.run(G, feed_dict={Z: noise})\n",
    "\n",
    "        fig, ax = plt.subplots(1, sample_size, figsize=(sample_size, 1))\n",
    "\n",
    "        for i in range(sample_size):\n",
    "            ax[i].set_axis_off()\n",
    "            ax[i].imshow(np.reshape(samples[i], (28, 28)))\n",
    "    \n",
    "        plt.savefig('samples/{}.png'.format(str(epoch).zfill(3)), bbox_inches='tight')\n",
    "        plt.close(fig)\n",
    "\n",
    "print('Done!')"
   ]
  },
  {
   "cell_type": "code",
   "execution_count": null,
   "metadata": {},
   "outputs": [],
   "source": []
  }
 ],
 "metadata": {
  "kernelspec": {
   "display_name": "Python 3",
   "language": "python",
   "name": "python3"
  },
  "language_info": {
   "codemirror_mode": {
    "name": "ipython",
    "version": 3
   },
   "file_extension": ".py",
   "mimetype": "text/x-python",
   "name": "python",
   "nbconvert_exporter": "python",
   "pygments_lexer": "ipython3",
   "version": "3.5.5"
  }
 },
 "nbformat": 4,
 "nbformat_minor": 2
}
